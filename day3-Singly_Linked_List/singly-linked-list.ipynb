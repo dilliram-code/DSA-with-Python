{
 "cells": [
  {
   "cell_type": "markdown",
   "id": "2a244d60",
   "metadata": {},
   "source": [
    "# Linked List Discussion Part:\n",
    "\n",
    "- **A linked list** is a data structure that plays a crucial role in data organization and management. It contains a series of nodes that are stored at random locations in memory, allowing for efficient memory management. Each node in a linked list contains two main components: the data part and a reference to the next node in the sequence."
   ]
  },
  {
   "cell_type": "markdown",
   "id": "3a1fbfda",
   "metadata": {},
   "source": [
    "#### Why Linked Lists?\n",
    "Linked lists were created to overcome various drawbacks associated with storing data in regular lists and arrays, as outlined below:"
   ]
  },
  {
   "cell_type": "markdown",
   "id": "3a81d2af",
   "metadata": {},
   "source": [
    "**✅ Ease of insertion and deletion**\n",
    "\n",
    "In lists, inserting or deleting an element at any position other than the end requires shifting all the subsequent items to a different position. This process has a time complexity of O(n) and can significantly degrade performance, especially as the list size grows."
   ]
  },
  {
   "cell_type": "markdown",
   "id": "0a5c95d6",
   "metadata": {},
   "source": [
    "Linked lists, however, operate differently. They store elements in various, non-contiguous memory locations and connect them through pointers to subsequent nodes. This structure allows linked lists to add or remove elements at any position by simply modifying the links to include a new element or bypass the deleted one.\n",
    "\n",
    "Once the position of the element is identified and there is direct access to the point of insertion or deletion, adding or removing nodes can be achieved in O(1) time."
   ]
  },
  {
   "cell_type": "markdown",
   "id": "e927d9e9",
   "metadata": {},
   "source": [
    "**✅ Dynamic size**\n",
    "\n",
    "Python lists are dynamic arrays, which means that they provide the flexibility to modify size.\n",
    "\n",
    "However, this process involves a series of complex operations, including reallocating the array to a new, larger memory block. Such reallocation is inefficient since elements are copied over to a new block, potentially allocating more space than is immediately necessary.\n",
    "\n",
    "In contrast, linked lists can grow and shrink dynamically without the need for reallocation or resizing. This makes them a preferable option for tasks that require high flexibility."
   ]
  },
  {
   "cell_type": "markdown",
   "id": "3d613ac2",
   "metadata": {},
   "source": [
    "**✅ Memory efficiency**\n",
    "\n",
    "Lists allocate memory for all of its elements in a contiguous block. If a list needs to grow beyond its initial size, it must allocate a new, larger block of contiguous memory and then copy all existing elements to this new block. This process is time-consuming and inefficient, especially for large lists. On the other hand, if the initial size of the list is overestimated, the unused memory is wasted.\n",
    "\n",
    "`In contrast`, linked lists allocate memory for each element separately. This structure leads to better memory utilization since memory for new elements can be allocated as they are added."
   ]
  },
  {
   "cell_type": "markdown",
   "id": "4ea82bf5",
   "metadata": {},
   "source": [
    "#### When Should You Use Linked Lists?\n",
    "\n",
    "While linked lists provide certain benefits over regular lists and arrays, such as dynamic size and memory efficiency, they also have their limitations. Since pointers for each element must be stored to reference the next node, the memory usage per element is higher when using linked lists. Also, this data structure does not allow direct access to data. Accessing an element requires sequential traversal from the beginning of the list, resulting in O(n) search time complexity.\n",
    "\n",
    "The choice between using a linked list or an array depends on the specific needs of the application. Linked lists are most useful when:\n",
    "\n",
    "- You need to frequently insert and delete many elements\n",
    "- The data size is unpredictable or likely to change frequently\n",
    "- Direct access to elements is not a requirement\n",
    "- The dataset contains large elements or structures"
   ]
  },
  {
   "cell_type": "markdown",
   "id": "08fe9e86",
   "metadata": {},
   "source": [
    "#### Types of linked lists\n",
    "\n",
    "There are three types of linked lists, each offering unique advantages for different scenarios. These types are:"
   ]
  },
  {
   "cell_type": "markdown",
   "id": "c5baaa1f",
   "metadata": {},
   "source": [
    "**Singly-linked lists**"
   ]
  },
  {
   "cell_type": "markdown",
   "id": "ab97a722",
   "metadata": {},
   "source": [
    "![Alt Text](/Users/dilliramchaudhary/DSA-with-Python/day3-Singly_Linked_List/singly_linked_list.avif)"
   ]
  },
  {
   "cell_type": "markdown",
   "id": "32166d40",
   "metadata": {},
   "source": [
    "A singly-linked list is the simplest type of linked list, where each node contains some data and a reference to the next node in the sequence. They can only be traversed in a single direction - from the head (the first node) to the tail (the last node).\n",
    "\n",
    "Each node in a singly-linked list typically consists of two parts:\n",
    "\n",
    "- `Data`: The actual information stored in the node.\n",
    "\n",
    "- `Next Pointer`: A reference to the next node. The last node’s next pointer is usually set to null.\n",
    "Since these data structures can only be traversed in a single direction, accessing a specific element by value or index requires starting from the head and sequentially moving through the nodes until the desired node is found. This operation has a time complexity of O(n), making it less efficient for large lists.\n",
    "\n",
    "Inserting and deleting a node at the beginning of a singly-linked list is highly efficient with a time complexity of O(1). However, insertion and deletion in the middle or at the end requires traversing the list until that point, leading to an O(n) time complexity.\n",
    "\n",
    "The design of singly-linked lists makes them a useful data structure when performing operations that occur at the beginning of the list.\n",
    "\n"
   ]
  },
  {
   "cell_type": "markdown",
   "id": "2ffe65ad",
   "metadata": {},
   "source": [
    "#### Problem with singly linked list\n",
    "\n",
    "One disadvantage of singly-linked lists is that we can only traverse them in a single direction and cannot iterate back to the previous node if required. This constraint limits our ability to perform operations that require bidirectional navigation.\n",
    "\n"
   ]
  },
  {
   "cell_type": "markdown",
   "id": "0f4141ee",
   "metadata": {},
   "source": []
  },
  {
   "cell_type": "markdown",
   "id": "ffee5b92",
   "metadata": {},
   "source": [
    "# Singly Linked List Code Part:"
   ]
  },
  {
   "cell_type": "markdown",
   "id": "40f75614",
   "metadata": {},
   "source": [
    "![Questions](/Users/dilliramchaudhary/DSA-with-Python/day3-Singly_Linked_List/singly-linked-list-assignment.jpeg)"
   ]
  },
  {
   "cell_type": "code",
   "execution_count": null,
   "id": "69aaa270",
   "metadata": {},
   "outputs": [],
   "source": [
    "# Define a class node to describe a node of a singly linked list\n",
    "\n",
    "class Node:\n",
    "    def __init__(self, item=None, next_node=None):\n",
    "        self.item = item\n",
    "        self.next = next_node\n",
    "\n",
    "class SSL:\n",
    "    def __init__(self, start=None):\n",
    "        self.start = start\n",
    "    def is_empty(self):\n",
    "        return self.start == None\n",
    "    def insert_at_start(self, data):\n",
    "        n=Node(data, self.start)\n",
    "        self.start=n\n",
    "    def insert_at_last(self, data):\n",
    "        n = Node(data)\n",
    "# create object of SSL class\n",
    "mylist = SSL()\n"
   ]
  },
  {
   "cell_type": "code",
   "execution_count": null,
   "id": "10669afd",
   "metadata": {},
   "outputs": [],
   "source": []
  }
 ],
 "metadata": {
  "kernelspec": {
   "display_name": "base",
   "language": "python",
   "name": "python3"
  },
  "language_info": {
   "codemirror_mode": {
    "name": "ipython",
    "version": 3
   },
   "file_extension": ".py",
   "mimetype": "text/x-python",
   "name": "python",
   "nbconvert_exporter": "python",
   "pygments_lexer": "ipython3",
   "version": "3.13.5"
  }
 },
 "nbformat": 4,
 "nbformat_minor": 5
}
