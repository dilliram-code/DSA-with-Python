{
 "cells": [
  {
   "cell_type": "markdown",
   "id": "a6f0b937",
   "metadata": {},
   "source": [
    "**❇️ Array:**\n",
    "\n",
    "- An array is a data structure that stores elements of the same type in contiguous memory locations.\n",
    "Arrays are efficient for index-based access and mathematical operations.\n",
    "\n",
    "**❇️ List:**\n",
    "\n",
    "- A list in Python is a dynamic array — it can store different data types, and its size can change (grow or shrink) during runtime."
   ]
  },
  {
   "cell_type": "markdown",
   "id": "86b234b2",
   "metadata": {},
   "source": [
    "**⚙️ 2. Difference Between Array and List**\n",
    "\n",
    "| Feature           | Array (`array` module)          | List                          |\n",
    "| ----------------- | ------------------------------- | ----------------------------- |\n",
    "| Type restriction  | Homogeneous (same type)         | Heterogeneous (mixed types)   |\n",
    "| Memory efficiency | More memory-efficient           | Less memory-efficient         |\n",
    "| Speed             | Faster for numeric computation  | Slower for large numeric data |\n",
    "| Import needed     | Yes (`from array import array`) | No                            |\n",
    "| Syntax            | `array('i', [1,2,3])`           | `[1,2,3]`                     |\n"
   ]
  },
  {
   "cell_type": "markdown",
   "id": "6e3ebdf8",
   "metadata": {},
   "source": []
  }
 ],
 "metadata": {
  "kernelspec": {
   "display_name": "base",
   "language": "python",
   "name": "python3"
  },
  "language_info": {
   "name": "python",
   "version": "3.13.5"
  }
 },
 "nbformat": 4,
 "nbformat_minor": 5
}
