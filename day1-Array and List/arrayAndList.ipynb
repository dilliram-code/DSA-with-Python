{
 "cells": [
  {
   "cell_type": "markdown",
   "id": "a6f0b937",
   "metadata": {},
   "source": [
    "**❇️ Array:**\n",
    "\n",
    "- An array is a data structure that stores elements of the same type in contiguous memory locations.\n",
    "Arrays are efficient for index-based access and mathematical operations.\n",
    "\n",
    "**❇️ List:**\n",
    "\n",
    "- A list in Python is a dynamic array — it can store different data types, and its size can change (grow or shrink) during runtime."
   ]
  },
  {
   "cell_type": "markdown",
   "id": "86b234b2",
   "metadata": {},
   "source": [
    "**⚙️ 2. Difference Between Array and List**\n",
    "\n",
    "| Feature           | Array (`array` module)          | List                          |\n",
    "| ----------------- | ------------------------------- | ----------------------------- |\n",
    "| Type restriction  | Homogeneous (same type)         | Heterogeneous (mixed types)   |\n",
    "| Memory efficiency | More memory-efficient           | Less memory-efficient         |\n",
    "| Speed             | Faster for numeric computation  | Slower for large numeric data |\n",
    "| Import needed     | Yes (`from array import array`) | No                            |\n",
    "| Syntax            | `array('i', [1,2,3])`           | `[1,2,3]`                     |\n"
   ]
  },
  {
   "cell_type": "code",
   "execution_count": 1,
   "id": "6e3ebdf8",
   "metadata": {},
   "outputs": [
    {
     "name": "stdout",
     "output_type": "stream",
     "text": [
      "Array:  array('i', [1, 2, 3, 4, 5])\n"
     ]
    }
   ],
   "source": [
    "# Creating Arrays\n",
    "\n",
    "from array import array\n",
    "\n",
    "\n",
    "# integer array\n",
    "arr = array('i', [1,2,3,4,5])\n",
    "print(\"Array: \", arr)"
   ]
  },
  {
   "cell_type": "code",
   "execution_count": null,
   "id": "7ab35678",
   "metadata": {},
   "outputs": [],
   "source": []
  }
 ],
 "metadata": {
  "kernelspec": {
   "display_name": "base",
   "language": "python",
   "name": "python3"
  },
  "language_info": {
   "codemirror_mode": {
    "name": "ipython",
    "version": 3
   },
   "file_extension": ".py",
   "mimetype": "text/x-python",
   "name": "python",
   "nbconvert_exporter": "python",
   "pygments_lexer": "ipython3",
   "version": "3.13.5"
  }
 },
 "nbformat": 4,
 "nbformat_minor": 5
}
