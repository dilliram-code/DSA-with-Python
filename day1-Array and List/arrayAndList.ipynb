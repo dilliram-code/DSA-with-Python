{
 "cells": [
  {
   "cell_type": "markdown",
   "id": "a6f0b937",
   "metadata": {},
   "source": [
    "**❇️ Array:**\n",
    "\n",
    "- An array is a data structure that stores elements of the same type in contiguous memory locations.\n",
    "Arrays are efficient for index-based access and mathematical operations.\n",
    "\n",
    "**❇️ List:**\n",
    "\n",
    "- A list in Python is a dynamic array — it can store different data types, and its size can change (grow or shrink) during runtime."
   ]
  },
  {
   "cell_type": "code",
   "execution_count": null,
   "id": "86b234b2",
   "metadata": {},
   "outputs": [],
   "source": []
  }
 ],
 "metadata": {
  "kernelspec": {
   "display_name": "base",
   "language": "python",
   "name": "python3"
  },
  "language_info": {
   "name": "python",
   "version": "3.13.5"
  }
 },
 "nbformat": 4,
 "nbformat_minor": 5
}
