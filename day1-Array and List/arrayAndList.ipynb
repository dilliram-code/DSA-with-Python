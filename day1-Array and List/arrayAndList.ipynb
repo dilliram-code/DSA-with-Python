{
 "cells": [
  {
   "cell_type": "markdown",
   "id": "a6f0b937",
   "metadata": {},
   "source": [
    "**❇️ Array:**\n",
    "\n",
    "- An array is a data structure that stores elements of the same type in contiguous memory locations.\n",
    "Arrays are efficient for index-based access and mathematical operations.\n",
    "\n",
    "**❇️ List:**\n",
    "\n",
    "- A list in Python is a dynamic array — it can store different data types, and its size can change (grow or shrink) during runtime."
   ]
  },
  {
   "cell_type": "markdown",
   "id": "86b234b2",
   "metadata": {},
   "source": [
    "**⚙️ 2. Difference Between Array and List**\n",
    "\n",
    "| Feature           | Array (`array` module)          | List                          |\n",
    "| ----------------- | ------------------------------- | ----------------------------- |\n",
    "| Type restriction  | Homogeneous (same type)         | Heterogeneous (mixed types)   |\n",
    "| Memory efficiency | More memory-efficient           | Less memory-efficient         |\n",
    "| Speed             | Faster for numeric computation  | Slower for large numeric data |\n",
    "| Import needed     | Yes (`from array import array`) | No                            |\n",
    "| Syntax            | `array('i', [1,2,3])`           | `[1,2,3]`                     |\n"
   ]
  },
  {
   "cell_type": "code",
   "execution_count": 3,
   "id": "6e3ebdf8",
   "metadata": {},
   "outputs": [
    {
     "name": "stdout",
     "output_type": "stream",
     "text": [
      "Array:  array('i', [1, 2, 3, 4, 5])\n"
     ]
    }
   ],
   "source": [
    "# Creating Arrays\n",
    "\n",
    "from array import array\n",
    "\n",
    "\n",
    "# integer array\n",
    "arr = array('i', [1,2,3,4,5])\n",
    "print(\"Array: \", arr)"
   ]
  },
  {
   "cell_type": "code",
   "execution_count": 8,
   "id": "7ab35678",
   "metadata": {},
   "outputs": [
    {
     "name": "stdout",
     "output_type": "stream",
     "text": [
      "1\n",
      "array('i', [1, 2, 3])\n",
      "5\n"
     ]
    }
   ],
   "source": [
    "# access element\n",
    "\n",
    "print(arr[0])           # first element\n",
    "print(arr[0:3])         # slicing on index\n",
    "print(arr[-1])          # last element"
   ]
  },
  {
   "cell_type": "code",
   "execution_count": null,
   "id": "68daa50e",
   "metadata": {},
   "outputs": [
    {
     "name": "stdout",
     "output_type": "stream",
     "text": [
      "array('i', [9, 2, 3, 4, 5])\n"
     ]
    }
   ],
   "source": [
    "# try to replace an element of array of same type\n",
    "\n",
    "arr[0] = 9\n",
    "print(arr)"
   ]
  },
  {
   "cell_type": "code",
   "execution_count": 11,
   "id": "b41228c7",
   "metadata": {},
   "outputs": [
    {
     "ename": "TypeError",
     "evalue": "'str' object cannot be interpreted as an integer",
     "output_type": "error",
     "traceback": [
      "\u001b[0;31m---------------------------------------------------------------------------\u001b[0m",
      "\u001b[0;31mTypeError\u001b[0m                                 Traceback (most recent call last)",
      "Cell \u001b[0;32mIn[11], line 3\u001b[0m\n\u001b[1;32m      1\u001b[0m \u001b[38;5;66;03m# try to store different type element  -> will throw an error\u001b[39;00m\n\u001b[0;32m----> 3\u001b[0m arr[\u001b[38;5;241m0\u001b[39m] \u001b[38;5;241m=\u001b[39m \u001b[38;5;124m\"\u001b[39m\u001b[38;5;124mDilli\u001b[39m\u001b[38;5;124m\"\u001b[39m\n",
      "\u001b[0;31mTypeError\u001b[0m: 'str' object cannot be interpreted as an integer"
     ]
    }
   ],
   "source": [
    "# try to store different type element  -> will throw an error\n",
    "\n",
    "arr[0] = \"Dilli\""
   ]
  },
  {
   "cell_type": "markdown",
   "id": "eb3b5b62",
   "metadata": {},
   "source": [
    "#### Observation:\n",
    "\n",
    "- only homogeneous type of data are allowed in an array to be stored."
   ]
  },
  {
   "cell_type": "markdown",
   "id": "d20a220d",
   "metadata": {},
   "source": [
    "#### List"
   ]
  },
  {
   "cell_type": "code",
   "execution_count": 13,
   "id": "83a06edf",
   "metadata": {},
   "outputs": [
    {
     "name": "stdout",
     "output_type": "stream",
     "text": [
      "List: [1, 'Python', 3.14, True]\n"
     ]
    }
   ],
   "source": [
    "# Mixed data types allowed\n",
    "\n",
    "lst = [1, \"Python\", 3.14, True]         # heterogenous data are allowed\n",
    "print(\"List:\", lst)"
   ]
  },
  {
   "cell_type": "code",
   "execution_count": 15,
   "id": "593bc836",
   "metadata": {},
   "outputs": [
    {
     "name": "stdout",
     "output_type": "stream",
     "text": [
      "10\n",
      "40\n"
     ]
    }
   ],
   "source": [
    "# access elements\n",
    "\n",
    "mylst = [10, 20, 30, 40]\n",
    "print(mylst[0])   # 10\n",
    "print(mylst[-1])  # 40\n"
   ]
  },
  {
   "cell_type": "code",
   "execution_count": null,
   "id": "a72b7e4c",
   "metadata": {},
   "outputs": [],
   "source": []
  }
 ],
 "metadata": {
  "kernelspec": {
   "display_name": "base",
   "language": "python",
   "name": "python3"
  },
  "language_info": {
   "codemirror_mode": {
    "name": "ipython",
    "version": 3
   },
   "file_extension": ".py",
   "mimetype": "text/x-python",
   "name": "python",
   "nbconvert_exporter": "python",
   "pygments_lexer": "ipython3",
   "version": "3.13.5"
  }
 },
 "nbformat": 4,
 "nbformat_minor": 5
}
