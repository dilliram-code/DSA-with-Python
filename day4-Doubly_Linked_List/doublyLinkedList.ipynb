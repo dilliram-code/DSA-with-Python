{
 "cells": [
  {
   "cell_type": "markdown",
   "id": "f308a9b9",
   "metadata": {},
   "source": [
    "### Doubly Linked List \n",
    "\n",
    "Doubly Linked List is a type of linked list in which each node contains a data element and two links pointing to the `_next_` and `_previous_` node in the sequence. This allows for more efficient operations such as traversals, insertions, and deletions because it can be done in both directions."
   ]
  },
  {
   "cell_type": "markdown",
   "id": "e2eb667d",
   "metadata": {},
   "source": [
    "**Components of a node in doubly linked list:**\n",
    "\n",
    "A doubly linked list is a type of linked list in which each node consists of 3 components:\n",
    "\n",
    "- `*prev` - address of the previous node\n",
    "\n",
    "- `data` - data item\n",
    "\n",
    "- `*next` - address of next node"
   ]
  },
  {
   "cell_type": "markdown",
   "id": "0d6ff3f5",
   "metadata": {},
   "source": [
    "**Representation of a node:**\n",
    "\n",
    "![Node](/Users/dilliramchaudhary/DSA-with-Python/day4-Doubly_Linked_List/nodedoubly.webp)"
   ]
  },
  {
   "cell_type": "markdown",
   "id": "212740d1",
   "metadata": {},
   "source": [
    "**Representation of Doubly Linked List**\n",
    "\n",
    "\n",
    "![Doubly_linked_list](/Users/dilliramchaudhary/DSA-with-Python/day4-Doubly_Linked_List/doublylinkedlist.jpeg)"
   ]
  },
  {
   "cell_type": "markdown",
   "id": "b541383c",
   "metadata": {},
   "source": [
    "**Key properties:**\n",
    "\n",
    "- Bi-directional traversal: you can traverse forward and backward easily.\n",
    "\n",
    "- Insertions/deletions at a known node are O(1) (just change a few pointers).\n",
    "\n",
    "- Access by index is O(n) (must step through nodes).\n",
    "\n",
    "**Why use a doubly linked list?**\n",
    "\n",
    "Use DLL when:\n",
    "\n",
    "- You need efficient insert/remove given a node or iterator (e.g., editors, LRU caches).\n",
    "\n",
    "- You need to traverse in both directions.\n",
    "\n",
    "- You want stable node addresses (pointers) when you insert/remove — iterators stay valid except those pointing to removed nodes.\n",
    "\n",
    "Compared to:\n",
    "\n",
    "- `Array / Python list:` O(1) random access vs O(n) for DLL. But DLL has O(1) insert/delete at arbitrary positions (if you already have node).\n",
    "\n",
    "- `Singly linked list:` DLL supports backward traversal and easier deletion of a node when you have only the node pointer (no need to find previous node)."
   ]
  },
  {
   "cell_type": "markdown",
   "id": "7509c0c0",
   "metadata": {},
   "source": [
    "#### Implementation from Scratch"
   ]
  },
  {
   "cell_type": "code",
   "execution_count": null,
   "id": "316de2ee",
   "metadata": {},
   "outputs": [],
   "source": [
    "# Define the Node Class\n",
    "\n",
    "class Node:\n",
    "    def __init__(self, data):\n",
    "        self.data = data\n",
    "        self.prev = None\n",
    "        self.next = None"
   ]
  },
  {
   "cell_type": "code",
   "execution_count": 1,
   "id": "228243ae",
   "metadata": {},
   "outputs": [],
   "source": [
    "# Define the Doubly Linked List Class\n",
    "\n",
    "class DoublyLinkedList:\n",
    "    def __init__(self):\n",
    "        self.head = None"
   ]
  },
  {
   "cell_type": "code",
   "execution_count": 2,
   "id": "b2ece4fe",
   "metadata": {},
   "outputs": [],
   "source": [
    "# Insertion Operations\n",
    "\n",
    "# Insert at the Beginning\n",
    "def insert_at_beginning(self, data):\n",
    "    new_node = Node(data)\n",
    "    if self.head is None:  # Empty list\n",
    "        self.head = new_node\n",
    "    else:\n",
    "        new_node.next = self.head\n",
    "        self.head.prev = new_node\n",
    "        self.head = new_node"
   ]
  },
  {
   "cell_type": "code",
   "execution_count": 3,
   "id": "eb98c8ac",
   "metadata": {},
   "outputs": [],
   "source": [
    "# Insert at the End\n",
    "\n",
    "def insert_at_end(self, data):\n",
    "    new_node = Node(data)\n",
    "    if self.head is None:\n",
    "        self.head = new_node\n",
    "        return\n",
    "\n",
    "    temp = self.head\n",
    "    while temp.next:\n",
    "        temp = temp.next\n",
    "    temp.next = new_node\n",
    "    new_node.prev = temp"
   ]
  },
  {
   "cell_type": "code",
   "execution_count": null,
   "id": "70373a9f",
   "metadata": {},
   "outputs": [],
   "source": []
  }
 ],
 "metadata": {
  "kernelspec": {
   "display_name": "base",
   "language": "python",
   "name": "python3"
  },
  "language_info": {
   "codemirror_mode": {
    "name": "ipython",
    "version": 3
   },
   "file_extension": ".py",
   "mimetype": "text/x-python",
   "name": "python",
   "nbconvert_exporter": "python",
   "pygments_lexer": "ipython3",
   "version": "3.13.5"
  }
 },
 "nbformat": 4,
 "nbformat_minor": 5
}
