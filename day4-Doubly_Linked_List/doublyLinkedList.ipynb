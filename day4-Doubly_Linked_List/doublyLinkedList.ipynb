{
 "cells": [
  {
   "cell_type": "markdown",
   "id": "f308a9b9",
   "metadata": {},
   "source": [
    "### Doubly Linked List \n",
    "\n",
    "Doubly Linked List is a type of linked list in which each node contains a data element and two links pointing to the next and previous node in the sequence. This allows for more efficient operations such as traversals, insertions, and deletions because it can be done in both directions."
   ]
  },
  {
   "cell_type": "markdown",
   "id": "e2eb667d",
   "metadata": {},
   "source": [
    "**Components of a node in doubly linked list**\n",
    "A doubly linked list is a type of linked list in which each node consists of 3 components:\n",
    "\n",
    "- `*prev` - address of the previous node\n",
    "\n",
    "- `data` - data item\n",
    "\n",
    "- `*next` - address of next node"
   ]
  },
  {
   "cell_type": "markdown",
   "id": "0d6ff3f5",
   "metadata": {},
   "source": [
    "**Representation of a node:**\n",
    "\n",
    "![Node](/Users/dilliramchaudhary/DSA-with-Python/day4-Doubly_Linked_List/nodeindoublylist.png)"
   ]
  },
  {
   "cell_type": "markdown",
   "id": "212740d1",
   "metadata": {},
   "source": [
    "**Representation of Doubly Linked List**\n",
    "\n",
    "\n",
    "![Doubly_linked_list](/Users/dilliramchaudhary/DSA-with-Python/day4-Doubly_Linked_List/doublylinkedlist.jpeg)"
   ]
  }
 ],
 "metadata": {
  "kernelspec": {
   "display_name": "base",
   "language": "python",
   "name": "python3"
  },
  "language_info": {
   "name": "python",
   "version": "3.13.5"
  }
 },
 "nbformat": 4,
 "nbformat_minor": 5
}
