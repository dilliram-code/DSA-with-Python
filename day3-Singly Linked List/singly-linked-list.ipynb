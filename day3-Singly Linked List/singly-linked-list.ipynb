{
 "cells": [
  {
   "cell_type": "markdown",
   "id": "2a244d60",
   "metadata": {},
   "source": [
    "**A linked list** is a data structure that plays a crucial role in data organization and management. It contains a series of nodes that are stored at random locations in memory, allowing for efficient memory management. Each node in a linked list contains two main components: the data part and a reference to the next node in the sequence."
   ]
  },
  {
   "cell_type": "markdown",
   "id": "3a1fbfda",
   "metadata": {},
   "source": [
    "#### Why Linked Lists?\n",
    "Linked lists were created to overcome various drawbacks associated with storing data in regular lists and arrays, as outlined below:"
   ]
  },
  {
   "cell_type": "markdown",
   "id": "3a81d2af",
   "metadata": {},
   "source": [
    "**Ease of insertion and deletion**\n",
    "\n",
    "In lists, inserting or deleting an element at any position other than the end requires shifting all the subsequent items to a different position. This process has a time complexity of O(n) and can significantly degrade performance, especially as the list size grows."
   ]
  },
  {
   "cell_type": "markdown",
   "id": "0a5c95d6",
   "metadata": {},
   "source": [
    "Linked lists, however, operate differently. They store elements in various, non-contiguous memory locations and connect them through pointers to subsequent nodes. This structure allows linked lists to add or remove elements at any position by simply modifying the links to include a new element or bypass the deleted one.\n",
    "\n",
    "Once the position of the element is identified and there is direct access to the point of insertion or deletion, adding or removing nodes can be achieved in O(1) time."
   ]
  },
  {
   "cell_type": "markdown",
   "id": "e927d9e9",
   "metadata": {},
   "source": [
    "**Dynamic size**\n",
    "\n",
    "Python lists are dynamic arrays, which means that they provide the flexibility to modify size.\n",
    "\n",
    "However, this process involves a series of complex operations, including reallocating the array to a new, larger memory block. Such reallocation is inefficient since elements are copied over to a new block, potentially allocating more space than is immediately necessary.\n",
    "\n",
    "In contrast, linked lists can grow and shrink dynamically without the need for reallocation or resizing. This makes them a preferable option for tasks that require high flexibility."
   ]
  },
  {
   "cell_type": "markdown",
   "id": "3d613ac2",
   "metadata": {},
   "source": [
    "**Memory efficiency**\n",
    "\n",
    "Lists allocate memory for all of its elements in a contiguous block. If a list needs to grow beyond its initial size, it must allocate a new, larger block of contiguous memory and then copy all existing elements to this new block. This process is time-consuming and inefficient, especially for large lists. On the other hand, if the initial size of the list is overestimated, the unused memory is wasted.\n",
    "\n",
    "`In contrast`, linked lists allocate memory for each element separately. This structure leads to better memory utilization since memory for new elements can be allocated as they are added."
   ]
  },
  {
   "cell_type": "markdown",
   "id": "4ea82bf5",
   "metadata": {},
   "source": [
    "#### When Should You Use Linked Lists?\n",
    "\n",
    "While linked lists provide certain benefits over regular lists and arrays, such as dynamic size and memory efficiency, they also have their limitations. Since pointers for each element must be stored to reference the next node, the memory usage per element is higher when using linked lists. Also, this data structure does not allow direct access to data. Accessing an element requires sequential traversal from the beginning of the list, resulting in O(n) search time complexity.\n",
    "\n",
    "The choice between using a linked list or an array depends on the specific needs of the application. Linked lists are most useful when:\n",
    "\n",
    "- You need to frequently insert and delete many elements\n",
    "- The data size is unpredictable or likely to change frequently\n",
    "- Direct access to elements is not a requirement\n",
    "- The dataset contains large elements or structures"
   ]
  },
  {
   "cell_type": "markdown",
   "id": "08fe9e86",
   "metadata": {},
   "source": []
  }
 ],
 "metadata": {
  "kernelspec": {
   "display_name": "base",
   "language": "python",
   "name": "python3"
  },
  "language_info": {
   "name": "python",
   "version": "3.13.5"
  }
 },
 "nbformat": 4,
 "nbformat_minor": 5
}
